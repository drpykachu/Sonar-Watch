{
 "cells": [
  {
   "cell_type": "code",
   "execution_count": 1,
   "id": "e68b2f92-03a1-43aa-ae99-d2b4ff348d9d",
   "metadata": {},
   "outputs": [],
   "source": [
    "from IPython.display import clear_output, display, HTML\n",
    "import time\n",
    "import math\n"
   ]
  },
  {
   "cell_type": "markdown",
   "id": "e922df6f-cdb6-461f-b6cf-67c9c45f358d",
   "metadata": {},
   "source": [
    "# Stagnant"
   ]
  },
  {
   "cell_type": "code",
   "execution_count": 2,
   "id": "e36dd056-36f3-41f4-be86-a77d61c336e4",
   "metadata": {},
   "outputs": [
    {
     "data": {
      "text/html": [
       "<div style='font-family: monospace; white-space: pre; line-height: 1; letter-spacing: 11.5px; font-size: 24px; display: inline-block; width: 120px; height: 120px; overflow: hidden;'> --- <br>--o--<br>-o-o-<br>--o--<br> --- <br></div>"
      ],
      "text/plain": [
       "<IPython.core.display.HTML object>"
      ]
     },
     "metadata": {},
     "output_type": "display_data"
    },
    {
     "name": "stdout",
     "output_type": "stream",
     "text": [
      "21\n"
     ]
    }
   ],
   "source": [
    "diameter = 5\n",
    "cut = 1\n",
    "inner = 2\n",
    "\n",
    "center = int(diameter/2)\n",
    "grid = ''\n",
    "for y in range(0,diameter,1):\n",
    "\n",
    "    row = ''\n",
    "   \n",
    "    for x in range(0,diameter,1):\n",
    "        dist = abs(x - center) + abs(y - center)\n",
    "       \n",
    "        if   y < cut-x or y >=diameter - cut+x or y < cut+x+1 - diameter or y >= 2*diameter -cut-x-1:\n",
    "            row = row + ' '\n",
    "           \n",
    "        elif dist == inner-1:\n",
    "            row = row + 'o'\n",
    "        else:    \n",
    "            row = row + '-'\n",
    "    \n",
    "    grid += row + \"<br>\"\n",
    "\n",
    "\n",
    "display(HTML(f\"<div style='font-family: monospace; white-space: pre; line-height: 1; \"\n",
    "                 f\"letter-spacing: 11.5px; font-size: 24px; display: inline-block; \"\n",
    "                 f\"width: {diameter * 24}px; height: {diameter * 24}px; overflow: hidden;'>\"\n",
    "                 f\"{grid}</div>\"))\n",
    "\n",
    "print(diameter**2 - int(cut*(cut + 1) / 2*4) )\n"
   ]
  },
  {
   "cell_type": "markdown",
   "id": "ed1dc9db-4937-460b-933e-74f1fa966c53",
   "metadata": {},
   "source": [
    "# Moving"
   ]
  },
  {
   "cell_type": "code",
   "execution_count": 6,
   "id": "7ddf29ae-17dc-4ab7-a9d8-a6ac4df3bac2",
   "metadata": {},
   "outputs": [
    {
     "data": {
      "text/html": [
       "<div style='font-family: monospace; white-space: pre; line-height: 1; letter-spacing: 11.5px; font-size: 24px; display: inline-block; width: 360px; height: 360px; overflow: hidden;'>   ---------   <br>  -----------  <br> ------------- <br>---------------<br>---------------<br>---------------<br>---------------<br>---------------<br>---------------<br>---------------<br>---------------<br>---------------<br> ------------- <br>  -----------  <br>   ---------   <br></div>"
      ],
      "text/plain": [
       "<IPython.core.display.HTML object>"
      ]
     },
     "metadata": {},
     "output_type": "display_data"
    }
   ],
   "source": [
    "diameter = 15\n",
    "cut = 3\n",
    "inner_ring = 15\n",
    "center = int(diameter/2)\n",
    "timer = 0.1\n",
    "\n",
    "for inner in range(inner_ring):\n",
    "    grid = ''\n",
    "    clear_output(wait=True)\n",
    "    for y in range(0,diameter,1):\n",
    "    \n",
    "        row = ''\n",
    "       \n",
    "        for x in range(0,diameter,1):\n",
    "            dist = abs(x - center) + abs(y - center)\n",
    "           \n",
    "            if   y < cut-x or y >=diameter - cut+x or y < cut+x+1 - diameter or y >= 2*diameter -cut-x-1:\n",
    "                row = row + ' '\n",
    "               \n",
    "            elif dist == inner-1:\n",
    "                row = row + 'o'\n",
    "            else:    \n",
    "                row = row + '-'\n",
    "    \n",
    "        \n",
    "        grid += row + \"<br>\"\n",
    "\n",
    "\n",
    "    display(HTML(f\"<div style='font-family: monospace; white-space: pre; line-height: 1; \"\n",
    "                     f\"letter-spacing: 11.5px; font-size: 24px; display: inline-block; \"\n",
    "                     f\"width: {diameter * 24}px; height: {diameter * 24}px; overflow: hidden;'>\"\n",
    "                     f\"{grid}</div>\"))\n",
    "\n",
    "    time.sleep(timer)\n",
    "# print(diameter**2 - int(cut*(cut + 1) / 2*4) )\n"
   ]
  },
  {
   "cell_type": "code",
   "execution_count": 38,
   "id": "f7a74bed-9520-4703-9bdf-dfd37b6b65b7",
   "metadata": {},
   "outputs": [
    {
     "data": {
      "text/plain": [
       "198"
      ]
     },
     "execution_count": 38,
     "metadata": {},
     "output_type": "execute_result"
    }
   ],
   "source": []
  },
  {
   "cell_type": "code",
   "execution_count": null,
   "id": "5d55247c-c2bd-461c-89a7-7bcb98f4c50f",
   "metadata": {},
   "outputs": [],
   "source": []
  },
  {
   "cell_type": "code",
   "execution_count": null,
   "id": "92c9645e-fce0-48e2-bc1c-bc03da57a328",
   "metadata": {},
   "outputs": [],
   "source": []
  },
  {
   "cell_type": "code",
   "execution_count": null,
   "id": "923ff1e7-466a-42db-af92-f5ec3461edd5",
   "metadata": {
    "scrolled": true
   },
   "outputs": [],
   "source": []
  },
  {
   "cell_type": "code",
   "execution_count": null,
   "id": "59740ce7-2753-4b8e-a3e6-7846146bea19",
   "metadata": {},
   "outputs": [],
   "source": []
  },
  {
   "cell_type": "code",
   "execution_count": null,
   "id": "90937ec3-5213-4c29-9a75-cee6bbb5b600",
   "metadata": {},
   "outputs": [],
   "source": []
  },
  {
   "cell_type": "code",
   "execution_count": null,
   "id": "17160624-9dfb-4d11-8791-1ab7b83dddf2",
   "metadata": {},
   "outputs": [],
   "source": []
  },
  {
   "cell_type": "code",
   "execution_count": null,
   "id": "30982619-c08d-4f90-b91c-701dc6a08401",
   "metadata": {},
   "outputs": [],
   "source": []
  },
  {
   "cell_type": "code",
   "execution_count": null,
   "id": "e2e3c485-84c3-41de-8f39-414866fde25f",
   "metadata": {},
   "outputs": [],
   "source": []
  },
  {
   "cell_type": "code",
   "execution_count": 26,
   "id": "8aa6db53-5200-4b3e-ac95-57538c0d304f",
   "metadata": {},
   "outputs": [
    {
     "name": "stdout",
     "output_type": "stream",
     "text": [
      "1         \n",
      "2         \n"
     ]
    }
   ],
   "source": [
    "\n",
    "for i in range(2):\n",
    "    clear_output(wait=True)\n",
    "    print(f\"{i:<10}\")\n",
    "    print(f\"{i * 2:<10}\")\n",
    "    \n",
    "    \n",
    "    time.sleep(0.5)"
   ]
  },
  {
   "cell_type": "code",
   "execution_count": null,
   "id": "a4ef9750-cb2f-40b7-b27e-49bf53bf4f7e",
   "metadata": {},
   "outputs": [],
   "source": []
  }
 ],
 "metadata": {
  "kernelspec": {
   "display_name": "Python 3 (ipykernel)",
   "language": "python",
   "name": "python3"
  },
  "language_info": {
   "codemirror_mode": {
    "name": "ipython",
    "version": 3
   },
   "file_extension": ".py",
   "mimetype": "text/x-python",
   "name": "python",
   "nbconvert_exporter": "python",
   "pygments_lexer": "ipython3",
   "version": "3.12.3"
  }
 },
 "nbformat": 4,
 "nbformat_minor": 5
}
