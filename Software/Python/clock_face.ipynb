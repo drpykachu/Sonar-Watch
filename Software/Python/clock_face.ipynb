{
 "cells": [
  {
   "cell_type": "code",
   "execution_count": 1,
   "id": "e68b2f92-03a1-43aa-ae99-d2b4ff348d9d",
   "metadata": {},
   "outputs": [
    {
     "data": {
      "text/html": [
       "<style>:root { --jp-notebook-max-width: 90% !important; }</style>"
      ],
      "text/plain": [
       "<IPython.core.display.HTML object>"
      ]
     },
     "metadata": {},
     "output_type": "display_data"
    }
   ],
   "source": [
    "from IPython.display import clear_output, display, HTML\n",
    "import time\n",
    "import math\n",
    "\n",
    "from IPython.display import display, HTML\n",
    "display(HTML(\"<style>:root { --jp-notebook-max-width: 90% !important; }</style>\"))"
   ]
  },
  {
   "cell_type": "markdown",
   "id": "e922df6f-cdb6-461f-b6cf-67c9c45f358d",
   "metadata": {},
   "source": [
    "# Stagnant"
   ]
  },
  {
   "cell_type": "code",
   "execution_count": 40,
   "id": "e36dd056-36f3-41f4-be86-a77d61c336e4",
   "metadata": {},
   "outputs": [
    {
     "data": {
      "text/html": [
       "<div style='font-family: monospace; white-space: pre; line-height: 1; letter-spacing: 11.5px; font-size: 24px; display: inline-block; width: 720px; height: 720px; overflow: hidden;'>   xxxxxxxxx   <br>  xxxxxxxxxxx  <br> xxxoooooooxxx <br>xxxoxxxxxxxoxxx<br>xxoxxxxxxxxxoxx<br>xxoxxxxxxxxxoxx<br>xxoxxxxxxxxxoxx<br>xxoxxxxxxxxxoxx<br>xxoxxxxxxxxxoxx<br>xxoxxxxxxxxxoxx<br>xxoxxxxxxxxxoxx<br>xxxoxxxxxxxoxxx<br> xxxoooooooxxx <br>  xxxxxxxxxxx  <br>   xxxxxxxxx   <br></div>"
      ],
      "text/plain": [
       "<IPython.core.display.HTML object>"
      ]
     },
     "metadata": {},
     "output_type": "display_data"
    },
    {
     "name": "stdout",
     "output_type": "stream",
     "text": [
      "201\n"
     ]
    }
   ],
   "source": [
    "diameter = 15\n",
    "cut = 3\n",
    "\n",
    "inside_margin = 2  # Distance from outer square to inner square\n",
    "inner_diameter = diameter - 2 * inside_margin\n",
    "inner_cut = 2\n",
    "\n",
    "grid = ''\n",
    "for y in range(diameter):\n",
    "    line = ''\n",
    "    for x in range(diameter):\n",
    "        # Check if (x, y) is within the outer clipped square\n",
    "        if y < cut - x or y >= diameter - cut + x or y < cut + x + 1 - diameter or y >= 2 * diameter - cut - x - 1:\n",
    "            line += ' '\n",
    "        else:\n",
    "            # Coordinates mapped to inner square region\n",
    "            inner_x = x - inside_margin\n",
    "            inner_y = y - inside_margin\n",
    "\n",
    "            if 0 <= inner_x < inner_diameter and 0 <= inner_y < inner_diameter:\n",
    "                # Check if (inner_x, inner_y) is inside inner clipped square\n",
    "                in_clipped = not (\n",
    "                    inner_y < inner_cut - inner_x or\n",
    "                    inner_y >= inner_diameter - inner_cut + inner_x or\n",
    "                    inner_y < inner_cut + inner_x + 1 - inner_diameter or\n",
    "                    inner_y >= 2 * inner_diameter - inner_cut - inner_x - 1\n",
    "                )\n",
    "                if in_clipped:\n",
    "                    # Now check if it's on the edge (i.e., has any neighboring cell not in clipped area)\n",
    "                    edge = False\n",
    "                    for dx, dy in [(-1,0),(1,0),(0,-1),(0,1)]:  # 4-neighbor\n",
    "                        nx, ny = inner_x + dx, inner_y + dy\n",
    "                        if not (0 <= nx < inner_diameter and 0 <= ny < inner_diameter):\n",
    "                            edge = True\n",
    "                            break\n",
    "                        ny_cond = not (\n",
    "                            ny < inner_cut - nx or\n",
    "                            ny >= inner_diameter - inner_cut + nx or\n",
    "                            ny < inner_cut + nx + 1 - inner_diameter or\n",
    "                            ny >= 2 * inner_diameter - inner_cut - nx - 1\n",
    "                        )\n",
    "                        if not ny_cond:\n",
    "                            edge = True\n",
    "                            break\n",
    "                    if edge:\n",
    "                        line += 'o'\n",
    "                    else:\n",
    "                        line += 'x'\n",
    "                else:\n",
    "                    line += 'x'\n",
    "            else:\n",
    "                line += 'x'\n",
    "    grid += line + \"<br>\"\n",
    "    \n",
    "display(HTML(f\"<div style='font-family: monospace; white-space: pre; line-height: 1; \"\n",
    "                 f\"letter-spacing: 11.5px; font-size: 24px; display: inline-block; \"\n",
    "                 f\"width: {diameter * 48}px; height: {diameter * 48}px; overflow: hidden;'>\"\n",
    "                 f\"{grid}</div>\"))\n",
    "\n",
    "\n",
    "print(diameter**2 - int(cut*(cut + 1) / 2*4) )\n"
   ]
  },
  {
   "cell_type": "markdown",
   "id": "ed1dc9db-4937-460b-933e-74f1fa966c53",
   "metadata": {},
   "source": [
    "# Moving"
   ]
  },
  {
   "cell_type": "code",
   "execution_count": 42,
   "id": "7ddf29ae-17dc-4ab7-a9d8-a6ac4df3bac2",
   "metadata": {},
   "outputs": [
    {
     "data": {
      "text/html": [
       "<div style='font-family: monospace; white-space: pre; line-height: 1; letter-spacing: 11.5px; font-size: 24px; display: inline-block; width: 360px; height: 360px; overflow: hidden;'>   xxxxxxxxx   <br>  xxxxxxxxxxx  <br> xxxxxxxxxxxxx <br>xxxxxxxxxxxxxxx<br>xxxxxxxxxxxxxxx<br>xxxxxxxxxxxxxxx<br>xxxxxxxxxxxxxxx<br>xxxxxxxxxxxxxxx<br>xxxxxxxxxxxxxxx<br>xxxxxxxxxxxxxxx<br>xxxxxxxxxxxxxxx<br>xxxxxxxxxxxxxxx<br> xxxxxxxxxxxxx <br>  xxxxxxxxxxx  <br>   xxxxxxxxx   <br></div>"
      ],
      "text/plain": [
       "<IPython.core.display.HTML object>"
      ]
     },
     "metadata": {},
     "output_type": "display_data"
    },
    {
     "name": "stdout",
     "output_type": "stream",
     "text": [
      "17\n"
     ]
    }
   ],
   "source": [
    "diameter = 15\n",
    "cut = 3\n",
    "\n",
    "inside_margin_distance = -2  # Distance from outer square to inner square\n",
    "\n",
    "\n",
    "\n",
    "timer = 1\n",
    "\n",
    "for inside_margin in range(6,inside_margin_distance,-1):\n",
    "    inner_diameter = diameter - 2 * inside_margin\n",
    "    inner_cut = 3\n",
    "    \n",
    "    grid = ''\n",
    "    clear_output(wait=True)\n",
    "    for y in range(diameter):\n",
    "        line = ''\n",
    "        for x in range(diameter):\n",
    "            # Check if (x, y) is within the outer clipped square\n",
    "            if y < cut - x or y >= diameter - cut + x or y < cut + x + 1 - diameter or y >= 2 * diameter - cut - x - 1:\n",
    "                line += ' '\n",
    "            else:\n",
    "                # Coordinates mapped to inner square region\n",
    "                inner_x = x - inside_margin\n",
    "                inner_y = y - inside_margin\n",
    "    \n",
    "                if 0 <= inner_x < inner_diameter and 0 <= inner_y < inner_diameter:\n",
    "                    # Check if (inner_x, inner_y) is inside inner clipped square\n",
    "                    in_clipped = not (\n",
    "                        inner_y < inner_cut - inner_x or\n",
    "                        inner_y >= inner_diameter - inner_cut + inner_x or\n",
    "                        inner_y < inner_cut + inner_x + 1 - inner_diameter or\n",
    "                        inner_y >= 2 * inner_diameter - inner_cut - inner_x - 1\n",
    "                    )\n",
    "                    if in_clipped:\n",
    "                        # Now check if it's on the edge (i.e., has any neighboring cell not in clipped area)\n",
    "                        edge = False\n",
    "                        for dx, dy in [(-1,0),(1,0),(0,-1),(0,1)]:  # 4-neighbor\n",
    "                            nx, ny = inner_x + dx, inner_y + dy\n",
    "                            if not (0 <= nx < inner_diameter and 0 <= ny < inner_diameter):\n",
    "                                edge = True\n",
    "                                break\n",
    "                            ny_cond = not (\n",
    "                                ny < inner_cut - nx or\n",
    "                                ny >= inner_diameter - inner_cut + nx or\n",
    "                                ny < inner_cut + nx + 1 - inner_diameter or\n",
    "                                ny >= 2 * inner_diameter - inner_cut - nx - 1\n",
    "                            )\n",
    "                            if not ny_cond:\n",
    "                                edge = True\n",
    "                                break\n",
    "                        if edge:\n",
    "                            line += 'o'\n",
    "                        else:\n",
    "                            line += 'x'\n",
    "                    else:\n",
    "                        line += 'x'\n",
    "                else:\n",
    "                    line += 'x'\n",
    "        grid += line + \"<br>\"\n",
    "\n",
    "\n",
    "    display(HTML(f\"<div style='font-family: monospace; white-space: pre; line-height: 1; \"\n",
    "                     f\"letter-spacing: 11.5px; font-size: 24px; display: inline-block; \"\n",
    "                     f\"width: {diameter * 24}px; height: {diameter * 24}px; overflow: hidden;'>\"\n",
    "                     f\"{grid}</div>\"))\n",
    "    print(inner_diameter)\n",
    "    time.sleep(timer)\n",
    "# print(diameter**2 - int(cut*(cut + 1) / 2*4) )\n"
   ]
  },
  {
   "cell_type": "code",
   "execution_count": 48,
   "id": "59740ce7-2753-4b8e-a3e6-7846146bea19",
   "metadata": {},
   "outputs": [
    {
     "data": {
      "text/html": [
       "<div style='font-family: monospace; white-space: pre; line-height: 1; letter-spacing: 11.5px; font-size: 24px; display: inline-block; width: 360px; height: 360px; overflow: hidden;'>   ---------   <br>  -----------  <br> ------------- <br>---------------<br>---------------<br>---------------<br>---------------<br>---------------<br>---------------<br>---------------<br>---------------<br>---------------<br> ------------- <br>  -----------  <br>   ---------   <br></div>"
      ],
      "text/plain": [
       "<IPython.core.display.HTML object>"
      ]
     },
     "metadata": {},
     "output_type": "display_data"
    }
   ],
   "source": [
    "diameter = 15\n",
    "cut = 3\n",
    "inner_ring = 15\n",
    "center = int(diameter/2)\n",
    "timer = 0.1\n",
    "\n",
    "for inner in range(inner_ring):\n",
    "    grid = ''\n",
    "    clear_output(wait=True)\n",
    "    for y in range(0,diameter,1):\n",
    "    \n",
    "        row = ''\n",
    "       \n",
    "        for x in range(0,diameter,1):\n",
    "            dist = abs(x - center) + abs(y - center)\n",
    "           \n",
    "            if   y < cut-x or y >=diameter - cut+x or y < cut+x+1 - diameter or y >= 2*diameter -cut-x-1:\n",
    "                row = row + ' '\n",
    "               \n",
    "            elif dist == inner-1:\n",
    "                row = row + 'o'\n",
    "            else:    \n",
    "                row = row + '-'\n",
    "    \n",
    "        \n",
    "        grid += row + \"<br>\"\n",
    "\n",
    "\n",
    "    display(HTML(f\"<div style='font-family: monospace; white-space: pre; line-height: 1; \"\n",
    "                     f\"letter-spacing: 11.5px; font-size: 24px; display: inline-block; \"\n",
    "                     f\"width: {diameter * 24}px; height: {diameter * 24}px; overflow: hidden;'>\"\n",
    "                     f\"{grid}</div>\"))\n",
    "\n",
    "    time.sleep(timer)\n",
    "# print(diameter**2 - int(cut*(cut + 1) / 2*4) )\n"
   ]
  },
  {
   "cell_type": "code",
   "execution_count": null,
   "id": "90937ec3-5213-4c29-9a75-cee6bbb5b600",
   "metadata": {},
   "outputs": [],
   "source": []
  },
  {
   "cell_type": "code",
   "execution_count": null,
   "id": "17160624-9dfb-4d11-8791-1ab7b83dddf2",
   "metadata": {},
   "outputs": [],
   "source": []
  },
  {
   "cell_type": "code",
   "execution_count": null,
   "id": "30982619-c08d-4f90-b91c-701dc6a08401",
   "metadata": {},
   "outputs": [],
   "source": []
  },
  {
   "cell_type": "code",
   "execution_count": null,
   "id": "e2e3c485-84c3-41de-8f39-414866fde25f",
   "metadata": {},
   "outputs": [],
   "source": []
  },
  {
   "cell_type": "code",
   "execution_count": null,
   "id": "a4ef9750-cb2f-40b7-b27e-49bf53bf4f7e",
   "metadata": {},
   "outputs": [],
   "source": []
  }
 ],
 "metadata": {
  "kernelspec": {
   "display_name": "Python 3 (ipykernel)",
   "language": "python",
   "name": "python3"
  },
  "language_info": {
   "codemirror_mode": {
    "name": "ipython",
    "version": 3
   },
   "file_extension": ".py",
   "mimetype": "text/x-python",
   "name": "python",
   "nbconvert_exporter": "python",
   "pygments_lexer": "ipython3",
   "version": "3.12.3"
  }
 },
 "nbformat": 4,
 "nbformat_minor": 5
}
